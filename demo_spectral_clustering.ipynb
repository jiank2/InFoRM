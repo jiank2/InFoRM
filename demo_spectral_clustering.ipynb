{
 "cells": [
  {
   "cell_type": "markdown",
   "metadata": {},
   "source": [
    "#### This notebook demonstrates the use of InFoRM algorithms to mitigate bias for spectral clustering\n",
    "InFoRM includes 3 algorithms, namely debiasing the input graph, debiasing the mining model and debiasing the mining result. We will show how to run all 3 algorithms for spectral clustering in this notebook."
   ]
  },
  {
   "cell_type": "markdown",
   "metadata": {},
   "source": [
    "### Get vanilla clustering membership matrix first"
   ]
  },
  {
   "cell_type": "code",
   "execution_count": 1,
   "metadata": {},
   "outputs": [],
   "source": [
    "# load necessary packages\n",
    "import pickle\n",
    "import load_graph\n",
    "import utils\n",
    "\n",
    "import networkx as nx\n",
    "\n",
    "from scipy.sparse.csgraph import laplacian\n",
    "from scipy.sparse.linalg import eigsh"
   ]
  },
  {
   "cell_type": "code",
   "execution_count": 2,
   "metadata": {},
   "outputs": [],
   "source": [
    "def vanilla(name, v0):\n",
    "    try:\n",
    "        with open('result/sc/vanilla.pickle', 'rb') as f:\n",
    "            udict = pickle.load(f)\n",
    "    except:\n",
    "        udict = dict()\n",
    "\n",
    "    if name == 'ppi':\n",
    "        data = load_graph.read_mat(name)\n",
    "        graph = data['graph']\n",
    "    else:\n",
    "        graph = load_graph.read_graph(name)\n",
    "    lcc = max(nx.connected_components(graph), key=len)  # take largest connected components\n",
    "    adj = nx.to_scipy_sparse_matrix(graph, nodelist=lcc, dtype='float', format='csc')\n",
    "    lap = laplacian(adj)\n",
    "    lap *= -1\n",
    "    _, u = eigsh(lap, which='LM', k=10, sigma=1.0, v0=v0[name])\n",
    "    udict[name] = dict()\n",
    "    udict[name]['eigenvectors'] = u\n",
    "\n",
    "    with open('result/sc/vanilla.pickle', 'wb') as f:\n",
    "        pickle.dump(udict, f, protocol=pickle.HIGHEST_PROTOCOL)"
   ]
  },
  {
   "cell_type": "code",
   "execution_count": 3,
   "metadata": {},
   "outputs": [],
   "source": [
    "# load starting vector for decomposition\n",
    "v0 = pickle.load(open('data/v0.pickle', 'rb'))"
   ]
  },
  {
   "cell_type": "code",
   "execution_count": 4,
   "metadata": {},
   "outputs": [],
   "source": [
    "# get vanilla clustering membership\n",
    "vanilla(name='ppi', v0=v0)"
   ]
  },
  {
   "cell_type": "markdown",
   "metadata": {},
   "source": [
    "### Let's debias the input graph"
   ]
  },
  {
   "cell_type": "code",
   "execution_count": 5,
   "metadata": {},
   "outputs": [],
   "source": [
    "# load debias model\n",
    "from method.debias_graph import DebiasGraph"
   ]
  },
  {
   "cell_type": "code",
   "execution_count": 6,
   "metadata": {},
   "outputs": [],
   "source": [
    "def debias_input_graph(name, v0, alpha=0.0, lr=0.0, metric=None):\n",
    "    # load graph\n",
    "    if name == 'ppi':\n",
    "        data = load_graph.read_mat(name)\n",
    "        graph = data['graph']\n",
    "    else:\n",
    "        graph = load_graph.read_graph(name)\n",
    "    lcc = max(nx.connected_components(graph), key=len)  # take largest connected components\n",
    "    init_adj = nx.to_scipy_sparse_matrix(graph, nodelist=lcc, dtype='float', format='csc')\n",
    "\n",
    "    # build similarity matrix\n",
    "    sim = utils.get_similarity_matrix(init_adj, metric=metric)\n",
    "\n",
    "    # debias spectral clustering\n",
    "    FairGraph = DebiasGraph()\n",
    "    adj = FairGraph.spectral_clustering(init_adj, sim, alpha, ncluster=10, v0=v0[name], maxiter=100, lr=lr, tol=1e-6)\n",
    "    lap = laplacian(adj)\n",
    "    lap *= -1\n",
    "    _, u = eigsh(lap, which='LM', k=10, sigma=1.0, v0=v0[name])\n",
    "\n",
    "    print('dataset: {}\\tmetric: {} similarity'.format(name, metric))\n",
    "    print('Finished!')\n",
    "\n",
    "    return u"
   ]
  },
  {
   "cell_type": "code",
   "execution_count": 7,
   "metadata": {},
   "outputs": [
    {
     "name": "stdout",
     "output_type": "stream",
     "text": [
      "dataset: ppi\tmetric: jaccard similarity\n",
      "Finished!\n",
      "dataset: ppi\tmetric: cosine similarity\n",
      "Finished!\n"
     ]
    }
   ],
   "source": [
    "v0 = pickle.load(open('data/v0.pickle', 'rb'))\n",
    "\n",
    "# jaccard index\n",
    "result = dict()\n",
    "result['ppi'] = debias_input_graph(name='ppi', v0=v0, alpha=1e7, lr=0.05, metric='jaccard')\n",
    "with open('result/sc/graph/jaccard.pickle', 'wb') as f:\n",
    "    pickle.dump(result, f, protocol=pickle.HIGHEST_PROTOCOL)\n",
    "\n",
    "# cosine similarity\n",
    "result = dict()\n",
    "result['ppi'] = debias_input_graph(name='ppi', v0=v0, alpha=1e7, lr=0.05, metric='cosine')\n",
    "with open('result/sc/graph/cosine.pickle', 'wb') as f:\n",
    "    pickle.dump(result, f, protocol=pickle.HIGHEST_PROTOCOL)"
   ]
  },
  {
   "cell_type": "markdown",
   "metadata": {},
   "source": [
    "### Let's debias the mining model"
   ]
  },
  {
   "cell_type": "code",
   "execution_count": 8,
   "metadata": {},
   "outputs": [],
   "source": [
    "# load debias model\n",
    "from method.debias_model import DebiasModel"
   ]
  },
  {
   "cell_type": "code",
   "execution_count": 9,
   "metadata": {},
   "outputs": [],
   "source": [
    "def debias_mining_model(name, v0, alpha=0.0, metric=None):\n",
    "    # load dataset\n",
    "    if name == 'ppi':\n",
    "        data = load_graph.read_mat(name)\n",
    "        graph = data['graph']\n",
    "    else:\n",
    "        graph = load_graph.read_graph(name)\n",
    "    lcc = max(nx.connected_components(graph), key=len)  # take largest connected components\n",
    "    adj = nx.to_scipy_sparse_matrix(graph, nodelist=lcc, dtype='float', format='csc')\n",
    "\n",
    "    # build similarity matrix\n",
    "    sim = utils.get_similarity_matrix(adj, metric=metric)\n",
    "\n",
    "    # debias spectral clustering\n",
    "    FairModel = DebiasModel()\n",
    "    # V, U = sc.debias_alg(adj, sim, alpha, ncluster=10, v0=v0[name])\n",
    "    u = FairModel.spectral_clustering(adj, sim, alpha, ncluster=10, v0=v0[name])\n",
    "\n",
    "    print('dataset: {}\\t metric: {} similarity'.format(name, metric))\n",
    "    print('Finished!')\n",
    "\n",
    "    return u"
   ]
  },
  {
   "cell_type": "code",
   "execution_count": 10,
   "metadata": {},
   "outputs": [
    {
     "name": "stdout",
     "output_type": "stream",
     "text": [
      "dataset: ppi\t metric: jaccard similarity\n",
      "Finished!\n",
      "dataset: ppi\t metric: cosine similarity\n",
      "Finished!\n"
     ]
    }
   ],
   "source": [
    "alpha = 0.5\n",
    "v0 = pickle.load(open('data/v0.pickle', 'rb'))\n",
    "# jaccard index\n",
    "result = dict()\n",
    "result['ppi'] = debias_mining_model(name='ppi', v0=v0, alpha=alpha, metric='jaccard')\n",
    "with open('result/sc/model/jaccard.pickle', 'wb') as f:\n",
    "    pickle.dump(result, f, protocol=pickle.HIGHEST_PROTOCOL)\n",
    "\n",
    "# cosine similarity    \n",
    "result = dict()\n",
    "result['ppi'] = debias_mining_model(name='ppi', v0=v0, alpha=alpha, metric='cosine')\n",
    "with open('result/sc/model/cosine.pickle', 'wb') as f:\n",
    "    pickle.dump(result, f, protocol=pickle.HIGHEST_PROTOCOL)"
   ]
  },
  {
   "cell_type": "markdown",
   "metadata": {},
   "source": [
    "### Let's debias the mining result"
   ]
  },
  {
   "cell_type": "code",
   "execution_count": 11,
   "metadata": {},
   "outputs": [],
   "source": [
    "# load debias model\n",
    "from method.debias_result import DebiasResult"
   ]
  },
  {
   "cell_type": "code",
   "execution_count": 12,
   "metadata": {},
   "outputs": [],
   "source": [
    "def debias_mining_result(name, vanilla, alpha=0.0, metric=None):\n",
    "    # vanilla result\n",
    "    u = vanilla[name]['eigenvectors']\n",
    "\n",
    "    # load dataset\n",
    "    if name == 'ppi':\n",
    "        data = load_graph.read_mat(name)\n",
    "        graph = data['graph']\n",
    "    else:\n",
    "        graph = load_graph.read_graph(name)\n",
    "    cc = max(nx.connected_components(graph), key=len)  # take largest connected components\n",
    "    adj = nx.to_scipy_sparse_matrix(graph, nodelist=cc, dtype='float', format='csc')\n",
    "\n",
    "    # build similarity matrix\n",
    "    sim = utils.get_similarity_matrix(adj, metric=metric)\n",
    "\n",
    "    # debias spectral clustering\n",
    "    FairResult = DebiasResult()\n",
    "    u = FairResult.fit(u, sim, alpha)\n",
    "    print('dataset: {}\\tmetric: {} similarity'.format(name, metric))\n",
    "    print('Finished!')\n",
    "\n",
    "    return u"
   ]
  },
  {
   "cell_type": "code",
   "execution_count": 13,
   "metadata": {},
   "outputs": [
    {
     "name": "stdout",
     "output_type": "stream",
     "text": [
      "dataset: ppi\tmetric: jaccard similarity\n",
      "Finished!\n",
      "dataset: ppi\tmetric: cosine similarity\n",
      "Finished!\n"
     ]
    }
   ],
   "source": [
    "alpha = 0.5\n",
    "\n",
    "with open('result/sc/vanilla.pickle', 'rb') as f:\n",
    "    vanilla = pickle.load(f)\n",
    "\n",
    "# jaccard index\n",
    "result = dict()\n",
    "result['ppi'] = debias_mining_result(name='ppi', vanilla=vanilla, alpha=alpha, metric='jaccard')\n",
    "with open('result/sc/result/jaccard.pickle', 'wb') as f:\n",
    "    pickle.dump(result, f, protocol=pickle.HIGHEST_PROTOCOL)\n",
    "\n",
    "# cosine similarity    \n",
    "result = dict()\n",
    "result['ppi'] = debias_mining_result(name='ppi', vanilla=vanilla, alpha=alpha, metric='cosine')\n",
    "with open('result/sc/result/cosine.pickle', 'wb') as f:\n",
    "    pickle.dump(result, f, protocol=pickle.HIGHEST_PROTOCOL)"
   ]
  },
  {
   "cell_type": "markdown",
   "metadata": {},
   "source": [
    "### Now, let's see how much we debiased and how good debiased results are"
   ]
  },
  {
   "cell_type": "code",
   "execution_count": 14,
   "metadata": {},
   "outputs": [],
   "source": [
    "# load evaluation functions\n",
    "from evaluate.sc import *"
   ]
  },
  {
   "cell_type": "code",
   "execution_count": 15,
   "metadata": {},
   "outputs": [
    {
     "name": "stdout",
     "output_type": "stream",
     "text": [
      "{'dataset': 'ppi', 'metric': 'jaccard similarity', 'task': 'debias the input graph', 'diff': 1.034504879751878, 'nmi': 0.8682420701208994, 'bias': 0.19534454221269826}\n",
      "{'dataset': 'ppi', 'metric': 'cosine similarity', 'task': 'debias the input graph', 'diff': 0.9334052752109784, 'nmi': 0.9137902163453485, 'bias': 0.24145807349987436}\n",
      "{'dataset': 'ppi', 'metric': 'jaccard similarity', 'task': 'debias the mining model', 'diff': 0.9943213464407561, 'nmi': 0.6968137058881874, 'bias': 0.6702471197888372}\n",
      "{'dataset': 'ppi', 'metric': 'cosine similarity', 'task': 'debias the mining model', 'diff': 0.8966720571837244, 'nmi': 0.6175175840740242, 'bias': 0.752200615626692}\n",
      "{'dataset': 'ppi', 'metric': 'jaccard similarity', 'task': 'debias the mining result', 'diff': 0.2418338751897768, 'nmi': 0.8524465277247899, 'bias': 0.7750581491773365}\n",
      "{'dataset': 'ppi', 'metric': 'cosine similarity', 'task': 'debias the mining result', 'diff': 0.34270967780629136, 'nmi': 0.7205238894920537, 'bias': 0.873662536167175}\n"
     ]
    }
   ],
   "source": [
    "evaluate(name='ppi', metric='jaccard', task='graph')\n",
    "evaluate(name='ppi', metric='cosine', task='graph')\n",
    "evaluate(name='ppi', metric='jaccard', task='model')\n",
    "evaluate(name='ppi', metric='cosine', task='model')\n",
    "evaluate(name='ppi', metric='jaccard', task='result')\n",
    "evaluate(name='ppi', metric='cosine', task='result')"
   ]
  },
  {
   "cell_type": "code",
   "execution_count": null,
   "metadata": {},
   "outputs": [],
   "source": []
  }
 ],
 "metadata": {
  "kernelspec": {
   "display_name": "Python 3",
   "language": "python",
   "name": "python3"
  },
  "language_info": {
   "codemirror_mode": {
    "name": "ipython",
    "version": 3
   },
   "file_extension": ".py",
   "mimetype": "text/x-python",
   "name": "python",
   "nbconvert_exporter": "python",
   "pygments_lexer": "ipython3",
   "version": "3.8.5"
  }
 },
 "nbformat": 4,
 "nbformat_minor": 4
}

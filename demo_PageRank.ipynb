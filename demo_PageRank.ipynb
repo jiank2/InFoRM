{
 "cells": [
  {
   "cell_type": "markdown",
   "metadata": {},
   "source": [
    "#### This notebook demonstrates the use of InFoRM algorithms to mitigate bias for PageRank\n",
    "InFoRM includes 3 algorithms, namely debiasing the input graph, debiasing the mining model and debiasing the mining result. We will show how to run all 3 algorithms for PageRank in this notebook."
   ]
  },
  {
   "cell_type": "markdown",
   "metadata": {},
   "source": [
    "### Get vanilla PageRank vector first"
   ]
  },
  {
   "cell_type": "code",
   "execution_count": 1,
   "metadata": {},
   "outputs": [],
   "source": [
    "# load necessary packages\n",
    "import pickle\n",
    "import load_graph\n",
    "import utils\n",
    "\n",
    "import numpy as np\n",
    "import networkx as nx\n",
    "\n",
    "from scipy.sparse import csc_matrix"
   ]
  },
  {
   "cell_type": "code",
   "execution_count": 2,
   "metadata": {},
   "outputs": [],
   "source": [
    "def vanilla(name):\n",
    "    try:\n",
    "        with open('result/pagerank/vanilla.pickle', 'rb') as f:\n",
    "            rdict = pickle.load(f)\n",
    "    except:\n",
    "        rdict = dict()\n",
    "\n",
    "    if name == 'ppi':\n",
    "        data = load_graph.read_mat(name)\n",
    "        adj = data['adjacency']\n",
    "    else:\n",
    "        graph = load_graph.read_graph(name)\n",
    "        adj = nx.to_scipy_sparse_matrix(graph, dtype='float', format='csc')\n",
    "\n",
    "    adj = utils.symmetric_normalize(adj)\n",
    "    graph = nx.from_scipy_sparse_matrix(adj, create_using=nx.Graph())\n",
    "\n",
    "    r = utils.power_method(graph, c=0.85)\n",
    "    r = np.array([list(r.values())])\n",
    "    r = csc_matrix(np.array(r).transpose())\n",
    "    rdict[name] = r\n",
    "\n",
    "    with open('result/pagerank/vanilla.pickle', 'wb') as f:\n",
    "        pickle.dump(rdict, f, protocol=pickle.HIGHEST_PROTOCOL)"
   ]
  },
  {
   "cell_type": "code",
   "execution_count": 3,
   "metadata": {},
   "outputs": [],
   "source": [
    "# get vanilla PageRank vector\n",
    "vanilla(name='ppi')"
   ]
  },
  {
   "cell_type": "markdown",
   "metadata": {},
   "source": [
    "### Let's debias the input graph"
   ]
  },
  {
   "cell_type": "code",
   "execution_count": 4,
   "metadata": {},
   "outputs": [],
   "source": [
    "# load debias model\n",
    "from method.debias_graph import DebiasGraph"
   ]
  },
  {
   "cell_type": "code",
   "execution_count": 5,
   "metadata": {},
   "outputs": [],
   "source": [
    "def debias_input_graph(name, c=0.85, alpha=0., lr=0., metric=None):\n",
    "    if name == 'ppi':\n",
    "        data = load_graph.read_mat(name)\n",
    "        init_adj = data['adjacency']\n",
    "    else:\n",
    "        graph = load_graph.read_graph(name)\n",
    "        init_adj = nx.to_scipy_sparse_matrix(graph, dtype='float', format='csc')\n",
    "    init_adj = utils.symmetric_normalize(init_adj)\n",
    "\n",
    "    # build similarity matrix\n",
    "    sim = utils.filter_similarity_matrix(utils.get_similarity_matrix(init_adj, metric=metric), sigma=0.75)\n",
    "    sim = utils.symmetric_normalize(sim)\n",
    "\n",
    "    # debias pagerank\n",
    "    FairGraph = DebiasGraph()\n",
    "    graph = FairGraph.pagerank(init_adj, sim, alpha, lr=lr, c=c, tol=1e-6, maxiter=100)\n",
    "    r = utils.power_method(graph, c=c)\n",
    "\n",
    "    r = np.array([list(r.values())])\n",
    "    r = csc_matrix(np.array(r).transpose())\n",
    "\n",
    "    print('dataset: {}\\t metric: {} similarity'.format(name, metric))\n",
    "    print('Finished!')\n",
    "\n",
    "    return r"
   ]
  },
  {
   "cell_type": "code",
   "execution_count": 6,
   "metadata": {},
   "outputs": [
    {
     "name": "stdout",
     "output_type": "stream",
     "text": [
      "dataset: ppi\t metric: jaccard similarity\n",
      "Finished!\n",
      "dataset: ppi\t metric: cosine similarity\n",
      "Finished!\n"
     ]
    }
   ],
   "source": [
    "# jaccard index\n",
    "result = dict()\n",
    "result['ppi'] = debias_input_graph(name='ppi', c=0.85, alpha=1e6, lr=5e-4, metric='jaccard')\n",
    "with open('result/pagerank/graph/jaccard.pickle', 'wb') as f:\n",
    "    pickle.dump(result, f, protocol=pickle.HIGHEST_PROTOCOL)\n",
    "\n",
    "# cosine similarity    \n",
    "result = dict()\n",
    "result['ppi'] = debias_input_graph(name='ppi', c=0.85, alpha=1e6, lr=5e-4, metric='cosine')\n",
    "with open('result/pagerank/graph/cosine.pickle', 'wb') as f:\n",
    "    pickle.dump(result, f, protocol=pickle.HIGHEST_PROTOCOL)"
   ]
  },
  {
   "cell_type": "markdown",
   "metadata": {},
   "source": [
    "### Let's debias the mining model"
   ]
  },
  {
   "cell_type": "code",
   "execution_count": 7,
   "metadata": {},
   "outputs": [],
   "source": [
    "# load debias model\n",
    "from method.debias_model import DebiasModel"
   ]
  },
  {
   "cell_type": "code",
   "execution_count": 8,
   "metadata": {},
   "outputs": [],
   "source": [
    "def debias_mining_model(name, alpha=0., metric=None):\n",
    "    # init params\n",
    "    c = 0.85\n",
    "\n",
    "    # load dataset\n",
    "    if name == 'ppi':\n",
    "        data = load_graph.read_mat(name)\n",
    "        adj = data['adjacency']\n",
    "    else:\n",
    "        graph = load_graph.read_graph(name)\n",
    "        adj = nx.to_scipy_sparse_matrix(graph, dtype='float', format='csc')\n",
    "    adj = utils.symmetric_normalize(adj)\n",
    "\n",
    "    # build similarity matrix\n",
    "    sim = utils.filter_similarity_matrix(utils.get_similarity_matrix(adj, metric=metric), sigma=0.75)\n",
    "    sim = utils.symmetric_normalize(sim)\n",
    "\n",
    "    # debias pagerank\n",
    "    FairModel = DebiasModel()\n",
    "    r = FairModel.pagerank(adj, sim, alpha, c=c)\n",
    "    r = np.array([list(r.values())])\n",
    "    r = csc_matrix(np.array(r).transpose())\n",
    "\n",
    "    print('dataset: {}\\t metric: {} similarity'.format(name, metric))\n",
    "    print('Finished!')\n",
    "\n",
    "    return r"
   ]
  },
  {
   "cell_type": "code",
   "execution_count": 9,
   "metadata": {},
   "outputs": [
    {
     "name": "stdout",
     "output_type": "stream",
     "text": [
      "dataset: ppi\t metric: jaccard similarity\n",
      "Finished!\n",
      "dataset: ppi\t metric: cosine similarity\n",
      "Finished!\n"
     ]
    }
   ],
   "source": [
    "alpha = 0.5\n",
    "\n",
    "# jaccard index\n",
    "result = dict()\n",
    "result['ppi'] = debias_mining_model(name='ppi', alpha=alpha, metric='jaccard')\n",
    "with open('result/pagerank/model/jaccard.pickle', 'wb') as f:\n",
    "    pickle.dump(result, f, protocol=pickle.HIGHEST_PROTOCOL)\n",
    "\n",
    "# cosine similarity    \n",
    "result = dict()\n",
    "result['ppi'] = debias_mining_model(name='ppi', alpha=alpha, metric='cosine')\n",
    "with open('result/pagerank/model/cosine.pickle', 'wb') as f:\n",
    "    pickle.dump(result, f, protocol=pickle.HIGHEST_PROTOCOL)"
   ]
  },
  {
   "cell_type": "markdown",
   "metadata": {},
   "source": [
    "### Let's debias the mining result"
   ]
  },
  {
   "cell_type": "code",
   "execution_count": 10,
   "metadata": {},
   "outputs": [],
   "source": [
    "# load debias model\n",
    "from method.debias_result import DebiasResult"
   ]
  },
  {
   "cell_type": "code",
   "execution_count": 11,
   "metadata": {},
   "outputs": [],
   "source": [
    "def debias_mining_result(name, vanilla, alpha=0., metric=None):\n",
    "    # vanilla result\n",
    "    r = vanilla[name]\n",
    "\n",
    "    # load dataset\n",
    "    if name == 'ppi':\n",
    "        data = load_graph.read_mat(name)\n",
    "        adj = data['adjacency']\n",
    "    else:\n",
    "        graph = load_graph.read_graph(name)\n",
    "        adj = nx.to_scipy_sparse_matrix(graph, dtype='float', format='csc')\n",
    "    adj = utils.symmetric_normalize(adj)\n",
    "\n",
    "    # build similarity matrix\n",
    "    sim = utils.filter_similarity_matrix(utils.get_similarity_matrix(adj, metric=metric), sigma=0.75)\n",
    "    sim = utils.symmetric_normalize(sim)\n",
    "\n",
    "    # debias pagerank\n",
    "    # r = pagerank.debias_result(r, S, lambda_)\n",
    "    FairResult = DebiasResult()\n",
    "    r = FairResult.fit(r, sim, alpha)\n",
    "\n",
    "    print('dataset: {}\\tmetric: {} similarity'.format(name, metric))\n",
    "    print('Finished!')\n",
    "\n",
    "    return r"
   ]
  },
  {
   "cell_type": "code",
   "execution_count": 12,
   "metadata": {},
   "outputs": [
    {
     "name": "stdout",
     "output_type": "stream",
     "text": [
      "dataset: ppi\tmetric: jaccard similarity\n",
      "Finished!\n",
      "dataset: ppi\tmetric: cosine similarity\n",
      "Finished!\n"
     ]
    }
   ],
   "source": [
    "alpha = 0.5\n",
    "\n",
    "with open('result/pagerank/vanilla.pickle', 'rb') as f:\n",
    "    vanilla = pickle.load(f)\n",
    "\n",
    "# jaccard index\n",
    "result = dict()\n",
    "result['ppi'] = debias_mining_result(name='ppi', vanilla=vanilla, alpha=alpha, metric='jaccard')\n",
    "with open('result/pagerank/result/jaccard.pickle', 'wb') as f:\n",
    "    pickle.dump(result, f, protocol=pickle.HIGHEST_PROTOCOL)\n",
    "\n",
    "# cosine similarity    \n",
    "result = dict()\n",
    "result['ppi'] = debias_mining_result(name='ppi', vanilla=vanilla, alpha=alpha, metric='cosine')\n",
    "with open('result/pagerank/result/cosine.pickle', 'wb') as f:\n",
    "    pickle.dump(result, f, protocol=pickle.HIGHEST_PROTOCOL)"
   ]
  },
  {
   "cell_type": "markdown",
   "metadata": {},
   "source": [
    "### Now, let's see how much we debiased and how good debiased results are"
   ]
  },
  {
   "cell_type": "code",
   "execution_count": 13,
   "metadata": {},
   "outputs": [],
   "source": [
    "# load evaluation functions\n",
    "from evaluate.pagerank import *"
   ]
  },
  {
   "cell_type": "code",
   "execution_count": 14,
   "metadata": {},
   "outputs": [
    {
     "name": "stdout",
     "output_type": "stream",
     "text": [
      "{'dataset': 'ppi', 'metric': 'jaccard similarity', 'task': 'debias the input graph', 'diff': 0.18492063442801046, 'kl': 0.0018969515975970268, 'precision': {50: 0.92}, 'ndcg': {50: 0.9442572100682158}, 'bias': 0.43385507693395464}\n",
      "{'dataset': 'ppi', 'metric': 'cosine similarity', 'task': 'debias the input graph', 'diff': 0.3280772974802958, 'kl': 0.008071437274667047, 'precision': {50: 0.78}, 'ndcg': {50: 0.8381436001251663}, 'bias': 0.686652500412535}\n",
      "{'dataset': 'ppi', 'metric': 'jaccard similarity', 'task': 'debias the mining model', 'diff': 0.21119486360528836, 'kl': 0.004778336149265419, 'precision': {50: 0.92}, 'ndcg': {50: 0.9418922547520626}, 'bias': 0.5082799234158019}\n",
      "{'dataset': 'ppi', 'metric': 'cosine similarity', 'task': 'debias the mining model', 'diff': 0.2799128177329693, 'kl': 0.00956437934504764, 'precision': {50: 0.9}, 'ndcg': {50: 0.9283320973565875}, 'bias': 0.674944673637444}\n",
      "{'dataset': 'ppi', 'metric': 'jaccard similarity', 'task': 'debias the mining result', 'diff': 0.044607012642384355, 'kl': 0.0012181242622376729, 'precision': {50: 0.94}, 'ndcg': {50: 0.9584951283516092}, 'bias': 0.2700436561873856}\n",
      "{'dataset': 'ppi', 'metric': 'cosine similarity', 'task': 'debias the mining result', 'diff': 0.1119235205961844, 'kl': 0.00696792854264369, 'precision': {50: 0.94}, 'ndcg': {50: 0.9582718579671627}, 'bias': 0.44986224137895925}\n"
     ]
    }
   ],
   "source": [
    "evaluate(name='ppi', metric='jaccard', task='graph')\n",
    "evaluate(name='ppi', metric='cosine', task='graph')\n",
    "evaluate(name='ppi', metric='jaccard', task='model')\n",
    "evaluate(name='ppi', metric='cosine', task='model')\n",
    "evaluate(name='ppi', metric='jaccard', task='result')\n",
    "evaluate(name='ppi', metric='cosine', task='result')"
   ]
  },
  {
   "cell_type": "code",
   "execution_count": null,
   "metadata": {},
   "outputs": [],
   "source": []
  }
 ],
 "metadata": {
  "kernelspec": {
   "display_name": "Python 3",
   "language": "python",
   "name": "python3"
  },
  "language_info": {
   "codemirror_mode": {
    "name": "ipython",
    "version": 3
   },
   "file_extension": ".py",
   "mimetype": "text/x-python",
   "name": "python",
   "nbconvert_exporter": "python",
   "pygments_lexer": "ipython3",
   "version": "3.8.5"
  }
 },
 "nbformat": 4,
 "nbformat_minor": 4
}
